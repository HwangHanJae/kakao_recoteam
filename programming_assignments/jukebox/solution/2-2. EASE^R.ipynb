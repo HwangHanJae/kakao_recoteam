{
 "cells": [
  {
   "cell_type": "code",
   "execution_count": 24,
   "id": "3c0dbaaf",
   "metadata": {},
   "outputs": [],
   "source": [
    "import pandas as pd\n",
    "from scipy.sparse import csr_matrix\n",
    "from sklearn.utils import shuffle\n",
    "import numpy as np"
   ]
  },
  {
   "cell_type": "code",
   "execution_count": 26,
   "id": "a6876280",
   "metadata": {},
   "outputs": [],
   "source": [
    "tr = pd.read_csv('./parsed/listen_count.txt', sep=' ', header=None, dtype=str)\n",
    "tr.columns = ['uid', 'sid', 'cnt']\n",
    "tr['cnt'] = tr['cnt']"
   ]
  },
  {
   "cell_type": "code",
   "execution_count": 27,
   "id": "98fc1a4f",
   "metadata": {},
   "outputs": [],
   "source": [
    "uid2idx = {_id: i for (i, _id) in enumerate(tr.uid.unique())}\n",
    "sid2idx = {_id: i for (i, _id) in enumerate(tr.sid.unique())}\n",
    "idx2uid = {i: _id for (_id, i) in uid2idx.items()}\n",
    "idx2sid = {i: _id for (_id, i) in sid2idx.items()}"
   ]
  },
  {
   "cell_type": "code",
   "execution_count": 28,
   "id": "dfabc6be",
   "metadata": {},
   "outputs": [],
   "source": [
    "n_user, n_item = len(uid2idx), len(sid2idx)"
   ]
  },
  {
   "cell_type": "code",
   "execution_count": 29,
   "id": "827ddd9c",
   "metadata": {},
   "outputs": [],
   "source": [
    "tr['uidx'] = tr.uid.apply(lambda x: uid2idx[x])\n",
    "tr['sidx'] = tr.sid.apply(lambda x: sid2idx[x])"
   ]
  },
  {
   "cell_type": "code",
   "execution_count": 59,
   "id": "c8410198",
   "metadata": {},
   "outputs": [],
   "source": [
    "with open('./user_id.txt', 'w') as f:\n",
    "    print('\\n'.join(tr.uid.tolist()), file=f)"
   ]
  },
  {
   "cell_type": "code",
   "execution_count": 30,
   "id": "8486d1ea",
   "metadata": {},
   "outputs": [],
   "source": [
    "vali_list = val.groupby('uidx').sidx.apply(list).reset_index()"
   ]
  },
  {
   "cell_type": "code",
   "execution_count": 31,
   "id": "519a6faa",
   "metadata": {},
   "outputs": [],
   "source": [
    "X = csr_matrix((tr.cnt, (tr.uidx, tr.sidx)), shape=(n_user, n_item), dtype=np.float32)"
   ]
  },
  {
   "cell_type": "code",
   "execution_count": 32,
   "id": "1750a1b5",
   "metadata": {},
   "outputs": [],
   "source": [
    "X.data[:] = 1.0 + np.log(1.0 + X.data[:])"
   ]
  },
  {
   "cell_type": "code",
   "execution_count": 33,
   "id": "bb224ab9",
   "metadata": {},
   "outputs": [],
   "source": [
    "def gen_top_reco(X, lamb=10.0):\n",
    "    G = (X.T @ X).toarray()\n",
    "    diags = np.diag_indices(G.shape[0])\n",
    "    G[diags] += lamb\n",
    "    P = np.linalg.inv(G)\n",
    "    B = P / -np.diag(P)\n",
    "    scores = X @ B\n",
    "    scores = np.asarray((scores - X.astype(bool).astype(int) * 10000))\n",
    "    top_reco = (-scores).argsort(-1)[:, :100]\n",
    "    return top_reco"
   ]
  },
  {
   "cell_type": "code",
   "execution_count": 44,
   "id": "287e0468",
   "metadata": {},
   "outputs": [],
   "source": [
    "top_reco = gen_top_reco(X, lamb=30.0)"
   ]
  },
  {
   "cell_type": "code",
   "execution_count": 45,
   "id": "fb7fdf46",
   "metadata": {},
   "outputs": [],
   "source": [
    "ret = []\n",
    "for idx, rec_list in enumerate(top_reco):\n",
    "    uid = idx2uid[idx]\n",
    "    rec_sids = [str(idx2sid[sidx]) for sidx in rec_list]\n",
    "    ret.append(\"%s \" % uid + ' '.join(rec_sids))"
   ]
  },
  {
   "cell_type": "code",
   "execution_count": 46,
   "id": "b4db5269",
   "metadata": {},
   "outputs": [],
   "source": [
    "with open('./parsed/rec_result.txt', 'w') as f:\n",
    "    for w in ret:\n",
    "        print(w, file=f)"
   ]
  },
  {
   "cell_type": "code",
   "execution_count": 48,
   "id": "4980fcdb",
   "metadata": {},
   "outputs": [],
   "source": [
    "def load_res(fname):\n",
    "    ret = {}\n",
    "    with open(fname, 'r') as f:\n",
    "        for l in f:\n",
    "            l = l.strip().split()\n",
    "            uid, sids = l[0], l[1:]\n",
    "            ret[uid] = sids\n",
    "    return ret"
   ]
  },
  {
   "cell_type": "code",
   "execution_count": 49,
   "id": "785afcd8",
   "metadata": {},
   "outputs": [],
   "source": [
    "recs = load_res('./parsed/rec_result.txt')"
   ]
  },
  {
   "cell_type": "code",
   "execution_count": 50,
   "id": "63582e44",
   "metadata": {},
   "outputs": [],
   "source": [
    "gt = load_res('./parsed/TEST_DATA.txt')"
   ]
  },
  {
   "cell_type": "code",
   "execution_count": 51,
   "id": "bc1cc380",
   "metadata": {},
   "outputs": [],
   "source": [
    "import math\n",
    "def ndcg(recs, gt):\n",
    "    Q, S = 0.0, 0.0\n",
    "    for u, vs in gt.items():\n",
    "        rec = recs.get(u, [])\n",
    "        if not rec:\n",
    "            continue\n",
    "\n",
    "        idcg = sum([1.0 / math.log(i + 2, 2) for i in range(len(vs))])\n",
    "        dcg = 0.0\n",
    "        for i, r in enumerate(rec):\n",
    "            if r not in vs:\n",
    "                continue\n",
    "            rank = i + 1\n",
    "            dcg += 1.0 / math.log(rank + 1, 2)\n",
    "        ndcg = dcg / idcg\n",
    "        S += ndcg\n",
    "        Q += 1\n",
    "    return S / Q\n"
   ]
  },
  {
   "cell_type": "code",
   "execution_count": 52,
   "id": "f8c20670",
   "metadata": {},
   "outputs": [
    {
     "data": {
      "text/plain": [
       "0.2559553152855044"
      ]
     },
     "execution_count": 52,
     "metadata": {},
     "output_type": "execute_result"
    }
   ],
   "source": [
    "ndcg(recs, gt)"
   ]
  }
 ],
 "metadata": {
  "kernelspec": {
   "display_name": "Python 3 (ipykernel)",
   "language": "python",
   "name": "python3"
  },
  "language_info": {
   "codemirror_mode": {
    "name": "ipython",
    "version": 3
   },
   "file_extension": ".py",
   "mimetype": "text/x-python",
   "name": "python",
   "nbconvert_exporter": "python",
   "pygments_lexer": "ipython3",
   "version": "3.9.7"
  },
  "vscode": {
   "interpreter": {
    "hash": "1c0b93efeafdf3e6d99eb605273d97a0510dd9f2bbdf91a9dec5466ed68b0be9"
   }
  }
 },
 "nbformat": 4,
 "nbformat_minor": 5
}
