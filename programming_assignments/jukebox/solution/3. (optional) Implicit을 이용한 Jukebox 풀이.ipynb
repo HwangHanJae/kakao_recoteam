{
 "cells": [
  {
   "cell_type": "markdown",
   "id": "4c1dbc84",
   "metadata": {},
   "source": [
    "# Matrix Factorization 라이브러리인 Implicit을 이용한 Jukebox 풀이"
   ]
  },
  {
   "cell_type": "code",
   "execution_count": 1,
   "id": "92eb00a1",
   "metadata": {},
   "outputs": [],
   "source": [
    "import pandas as pd\n",
    "from scipy.sparse import csr_matrix\n",
    "import numpy as np\n",
    "from implicit.als import AlternatingLeastSquares as ALS"
   ]
  },
  {
   "cell_type": "code",
   "execution_count": 2,
   "id": "a6876280",
   "metadata": {},
   "outputs": [],
   "source": [
    "tr = pd.read_csv('./parsed/listen_count.txt', sep=' ', header=None, dtype=str)\n",
    "tr.columns = ['uid', 'sid', 'cnt']\n",
    "tr['cnt'] = tr['cnt']"
   ]
  },
  {
   "cell_type": "markdown",
   "id": "81bd8e98",
   "metadata": {},
   "source": [
    "## user/song id ↔︎ index mapper 생성"
   ]
  },
  {
   "cell_type": "code",
   "execution_count": 3,
   "id": "98fc1a4f",
   "metadata": {},
   "outputs": [],
   "source": [
    "uid2idx = {_id: i for (i, _id) in enumerate(tr.uid.unique())}\n",
    "sid2idx = {_id: i for (i, _id) in enumerate(tr.sid.unique())}\n",
    "idx2uid = {i: _id for (_id, i) in uid2idx.items()}\n",
    "idx2sid = {i: _id for (_id, i) in sid2idx.items()}"
   ]
  },
  {
   "cell_type": "code",
   "execution_count": 4,
   "id": "dfabc6be",
   "metadata": {},
   "outputs": [],
   "source": [
    "n_users, n_items = len(uid2idx), len(sid2idx)"
   ]
  },
  {
   "cell_type": "code",
   "execution_count": 5,
   "id": "827ddd9c",
   "metadata": {},
   "outputs": [],
   "source": [
    "tr['uidx'] = tr.uid.apply(lambda x: uid2idx[x])\n",
    "tr['sidx'] = tr.sid.apply(lambda x: sid2idx[x])"
   ]
  },
  {
   "cell_type": "code",
   "execution_count": 6,
   "id": "c8410198",
   "metadata": {},
   "outputs": [],
   "source": [
    "with open('./user_id.txt', 'w') as f:\n",
    "    print('\\n'.join(list(uid2idx)), file=f)"
   ]
  },
  {
   "cell_type": "code",
   "execution_count": 7,
   "id": "519a6faa",
   "metadata": {},
   "outputs": [],
   "source": [
    "X = csr_matrix((tr.cnt, (tr.uidx, tr.sidx)), shape=(n_users, n_items), dtype=np.float32)\n",
    "X.data[:] = 1.0 + np.log(1.0 + X.data[:])"
   ]
  },
  {
   "cell_type": "code",
   "execution_count": 8,
   "id": "b6b436f8",
   "metadata": {},
   "outputs": [
    {
     "data": {
      "application/vnd.jupyter.widget-view+json": {
       "model_id": "75e14414e65e4ac38a52f4df4632ac15",
       "version_major": 2,
       "version_minor": 0
      },
      "text/plain": [
       "  0%|          | 0/15 [00:00<?, ?it/s]"
      ]
     },
     "metadata": {},
     "output_type": "display_data"
    }
   ],
   "source": [
    "model = ALS(64, regularization=8.0, alpha=16.0)\n",
    "model.fit(X)"
   ]
  },
  {
   "cell_type": "code",
   "execution_count": 9,
   "id": "73ebf031",
   "metadata": {},
   "outputs": [],
   "source": [
    "top_reco, scores = model.recommend(np.arange(n_users), X, N=100)"
   ]
  },
  {
   "cell_type": "markdown",
   "id": "2749f9bd",
   "metadata": {},
   "source": [
    "## 추천 생성 후 저장"
   ]
  },
  {
   "cell_type": "code",
   "execution_count": 10,
   "id": "fb7fdf46",
   "metadata": {},
   "outputs": [],
   "source": [
    "ret = []\n",
    "for idx, rec_list in enumerate(top_reco):\n",
    "    uid = idx2uid[idx]\n",
    "    rec_sids = [str(idx2sid[sidx]) for sidx in rec_list]\n",
    "    ret.append(\"%s \" % uid + ' '.join(rec_sids))\n",
    "with open('./parsed/rec_result.txt', 'w') as f:\n",
    "    for w in ret:\n",
    "        print(w, file=f)"
   ]
  },
  {
   "cell_type": "code",
   "execution_count": 11,
   "id": "4980fcdb",
   "metadata": {},
   "outputs": [],
   "source": [
    "## 저장된 추천 결과, 그리고 테스트 데이터를 dictionary 형태로 읽어옵니다.\n",
    "def load_res(fname):\n",
    "    ret = {}\n",
    "    with open(fname, 'r') as f:\n",
    "        for l in f:\n",
    "            l = l.strip().split()\n",
    "            uid, sids = l[0], l[1:]\n",
    "            ret[uid] = sids\n",
    "    return ret\n",
    "\n",
    "recs = load_res('./parsed/rec_result.txt')\n",
    "gt = load_res('./parsed/TEST_DATA.txt')"
   ]
  },
  {
   "cell_type": "code",
   "execution_count": 12,
   "id": "bc1cc380",
   "metadata": {},
   "outputs": [],
   "source": [
    "import math\n",
    "def ndcg(recs, gt):\n",
    "    Q, S = 0.0, 0.0\n",
    "    for u, vs in gt.items():\n",
    "        rec = recs.get(u, [])\n",
    "        if not rec:\n",
    "            continue\n",
    "\n",
    "        idcg = sum([1.0 / math.log(i + 2, 2) for i in range(len(vs))])\n",
    "        dcg = 0.0\n",
    "        for i, r in enumerate(rec):\n",
    "            if r not in vs:\n",
    "                continue\n",
    "            rank = i + 1\n",
    "            dcg += 1.0 / math.log(rank + 1, 2)\n",
    "        ndcg = dcg / idcg\n",
    "        S += ndcg\n",
    "        Q += 1\n",
    "    return S / Q\n"
   ]
  },
  {
   "cell_type": "code",
   "execution_count": 13,
   "id": "f8c20670",
   "metadata": {},
   "outputs": [
    {
     "data": {
      "text/plain": [
       "0.230165318680204"
      ]
     },
     "execution_count": 13,
     "metadata": {},
     "output_type": "execute_result"
    }
   ],
   "source": [
    "ndcg(recs, gt)"
   ]
  }
 ],
 "metadata": {
  "kernelspec": {
   "display_name": "Python 3.9.7",
   "language": "python",
   "name": "python3"
  },
  "language_info": {
   "codemirror_mode": {
    "name": "ipython",
    "version": 3
   },
   "file_extension": ".py",
   "mimetype": "text/x-python",
   "name": "python",
   "nbconvert_exporter": "python",
   "pygments_lexer": "ipython3",
   "version": "3.9.7"
  },
  "vscode": {
   "interpreter": {
    "hash": "1c0b93efeafdf3e6d99eb605273d97a0510dd9f2bbdf91a9dec5466ed68b0be9"
   }
  }
 },
 "nbformat": 4,
 "nbformat_minor": 5
}
