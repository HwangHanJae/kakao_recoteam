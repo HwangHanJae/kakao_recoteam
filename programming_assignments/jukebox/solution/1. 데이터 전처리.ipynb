{
 "cells": [
  {
   "cell_type": "markdown",
   "id": "c9a6149a",
   "metadata": {},
   "source": [
    "# 데이터 전처리"
   ]
  },
  {
   "cell_type": "code",
   "execution_count": 2,
   "id": "302a585e",
   "metadata": {},
   "outputs": [],
   "source": [
    "import pandas as pd\n",
    "from scipy.sparse import csr_matrix\n",
    "from sklearn.utils import shuffle\n",
    "import numpy as np\n",
    "import os\n",
    "import shutil"
   ]
  },
  {
   "cell_type": "markdown",
   "id": "6af0cc5f",
   "metadata": {},
   "source": [
    "## 데이터 읽기"
   ]
  },
  {
   "cell_type": "code",
   "execution_count": 2,
   "id": "02eeb334",
   "metadata": {},
   "outputs": [],
   "source": [
    "data = pd.read_csv('listen_count.txt', sep=' ', header=None, dtype=str)\n",
    "data.columns = ['uid', 'sid', 'cnt']\n",
    "data['cnt'] = data['cnt'].astype(int)"
   ]
  },
  {
   "cell_type": "code",
   "execution_count": 3,
   "id": "9f889441",
   "metadata": {},
   "outputs": [
    {
     "name": "stdout",
     "output_type": "stream",
     "text": [
      "folder exist\n"
     ]
    }
   ],
   "source": [
    "try:\n",
    "    os.mkdir('./parsed')\n",
    "except FileExistsError:\n",
    "    print(\"folder exist\")\n",
    "    shutil.rmtree('./parsed')\n",
    "    os.mkdir('./parsed')"
   ]
  },
  {
   "cell_type": "markdown",
   "id": "d3cb7773",
   "metadata": {},
   "source": [
    "## 유저 아이디 저장\n",
    "\n",
    "유니크한 유저 아이디를 가져와서 저장합니다."
   ]
  },
  {
   "cell_type": "code",
   "execution_count": 4,
   "id": "14454e07",
   "metadata": {},
   "outputs": [],
   "source": [
    "uids = sorted(data.uid.unique(), key=lambda x: int(x))"
   ]
  },
  {
   "cell_type": "code",
   "execution_count": 5,
   "id": "7e8ae522",
   "metadata": {},
   "outputs": [],
   "source": [
    "with open(\"./parsed/all_uids.txt\", 'w') as f:\n",
    "    print('\\n'.join(uids), file=f)"
   ]
  },
  {
   "cell_type": "code",
   "execution_count": 6,
   "id": "b79ab959",
   "metadata": {},
   "outputs": [],
   "source": [
    "n_user, n_song = len(data.uid.unique()), len(data.sid.unique())\n",
    "data_len = len(data)"
   ]
  },
  {
   "cell_type": "markdown",
   "id": "cea206d4",
   "metadata": {},
   "source": [
    "## 데이터셋 나누기\n",
    "\n",
    "전체 데이터를 8:2 비율의 train/validation 데이터로 split합니다."
   ]
  },
  {
   "cell_type": "code",
   "execution_count": 7,
   "id": "8b89e881",
   "metadata": {},
   "outputs": [],
   "source": [
    "shuffled_data = shuffle(data)"
   ]
  },
  {
   "cell_type": "code",
   "execution_count": 8,
   "id": "dfc596c4",
   "metadata": {},
   "outputs": [],
   "source": [
    "ratio = 0.8"
   ]
  },
  {
   "cell_type": "code",
   "execution_count": 9,
   "id": "84f9cfd3",
   "metadata": {},
   "outputs": [],
   "source": [
    "tr, val = shuffled_data[:int(data_len * ratio)], shuffled_data[int(data_len * ratio):]"
   ]
  },
  {
   "cell_type": "code",
   "execution_count": 10,
   "id": "78faabca",
   "metadata": {},
   "outputs": [],
   "source": [
    "tr_in_uids = set(tr.uid.unique())\n",
    "tr_in_sids = set(tr.sid.unique())\n",
    "val_filtered = val[val.uid.isin(tr_in_uids) & val.sid.isin(tr_in_sids)]"
   ]
  },
  {
   "cell_type": "markdown",
   "id": "fabbde30",
   "metadata": {},
   "source": [
    "전처리 코드를 두번 작성하는 것을 막기 위해 저장되는 학습 파일은 실제 데이터([`listen_count.txt`](../listen_count.txt))와 같은 형태로 두는 것이 편리합니다."
   ]
  },
  {
   "cell_type": "code",
   "execution_count": 11,
   "id": "7fbf6130",
   "metadata": {},
   "outputs": [],
   "source": [
    "tr.to_csv('./parsed/listen_count.txt', index=None, header=None, sep=' ')"
   ]
  },
  {
   "cell_type": "markdown",
   "id": "6790c04d",
   "metadata": {},
   "source": [
    "validation 파일은 채점용 데이터([`jukebox.pdf`](../jukebox.pdf)에 기술되어 있는 형태)와 같은 형식으로 두는 것이 편리합니다."
   ]
  },
  {
   "cell_type": "code",
   "execution_count": 12,
   "id": "a0b80e3d",
   "metadata": {},
   "outputs": [],
   "source": [
    "save = val.groupby('uid').sid.apply(list).reset_index()\n",
    "with open(\"./parsed/TEST_DATA.txt\", 'w') as f:\n",
    "    for uid, sids in zip(save.uid, save.sid):\n",
    "        print(\"%s \" % uid + ' '.join(sids), file=f)"
   ]
  },
  {
   "cell_type": "markdown",
   "id": "9e0afdcf",
   "metadata": {},
   "source": [
    "데이터가 적절하게 잘 저장되어 있는지 한 번 더 확인합니다."
   ]
  },
  {
   "cell_type": "code",
   "execution_count": 13,
   "id": "bdae351e",
   "metadata": {},
   "outputs": [
    {
     "name": "stdout",
     "output_type": "stream",
     "text": [
      "listen_count.txt\n",
      "11377 7184 13\n",
      "1852 206 3\n",
      "19145 1692 3\n",
      "15629 585 2\n",
      "15821 5003 1\n",
      "16033 2242 1\n",
      "13306 2920 1\n",
      "16734 2488 2\n",
      "19990 23 5\n",
      "9208 3913 1\n",
      "\n",
      "TEST_DATA.txt\n",
      "1 96 57 101 65 10 58 97 31 47 37 11 20 44 103 35 94 4 6 33 50 19\n",
      "10 305 335 259 263 347 292 289 328 307 321 297 311 286 303 294 202 339 99 323 332 315 356 309 277\n",
      "100 4547 4564 4475 4503 4502 420 4507 4501 1903 4576 4505 4504 4522 4533 4491 4570 4510 4556 4225 4521 4481 4542 4527 4506 4499 4520 4552 890 687 4523 4483 4544\n",
      "1000 3595 3585 201\n",
      "10000 1338 7336 5327 5256 1285 2821 4233 2517 545 2369 1172 4882 4299 427 1042 6979 1194 379 2953 433 137 5253 2494 2981 477\n",
      "10001 4643\n",
      "10002 200\n",
      "10004 2966\n",
      "10005 3723\n",
      "10006 5826\n",
      "\n"
     ]
    }
   ],
   "source": [
    "!echo \"listen_count.txt\"\n",
    "!head ./parsed/listen_count.txt\n",
    "!echo \"\"\n",
    "!echo \"TEST_DATA.txt\"\n",
    "!head ./parsed/TEST_DATA.txt\n",
    "!echo \"\""
   ]
  }
 ],
 "metadata": {
  "kernelspec": {
   "display_name": "Python 3.10.2 64-bit ('py-3.10.2')",
   "language": "python",
   "name": "python3"
  },
  "language_info": {
   "codemirror_mode": {
    "name": "ipython",
    "version": 3
   },
   "file_extension": ".py",
   "mimetype": "text/x-python",
   "name": "python",
   "nbconvert_exporter": "python",
   "pygments_lexer": "ipython3",
   "version": "3.10.2"
  },
  "vscode": {
   "interpreter": {
    "hash": "9a43ef12e54cbdce1713efe7092ebffcfb641e943ae67d0e6fe4a12aa1b58da6"
   }
  }
 },
 "nbformat": 4,
 "nbformat_minor": 5
}
