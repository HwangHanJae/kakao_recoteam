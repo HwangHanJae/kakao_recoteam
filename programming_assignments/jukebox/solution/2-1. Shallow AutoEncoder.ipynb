{
 "cells": [
  {
   "cell_type": "markdown",
   "id": "020c94ee",
   "metadata": {},
   "source": [
    "# Shallow AutoEncoder를 이용한 Jukebox 풀이"
   ]
  },
  {
   "cell_type": "markdown",
   "id": "631268aa",
   "metadata": {},
   "source": [
    "## Jax 101\n",
    "\n",
    "임의의 행렬 연산에 대한 gradient 계산을 하기 위해서, 행렬 계산 라이브러리로 [jax](https://github.com/google/jax)를 사용했습니다. jax를 사용하면, 간단한 gradient 계산을 numpy를 사용할 때와 거의 같은 방법으로 할 수 있습니다."
   ]
  },
  {
   "cell_type": "markdown",
   "id": "6e698215",
   "metadata": {},
   "source": [
    "### Super basics of Jax"
   ]
  },
  {
   "cell_type": "code",
   "execution_count": 1,
   "id": "587f89fb",
   "metadata": {},
   "outputs": [],
   "source": [
    "import numpy as np\n",
    "from jax import grad, jit, vmap\n",
    "import jax.numpy as jnp"
   ]
  },
  {
   "cell_type": "markdown",
   "id": "1d289920",
   "metadata": {},
   "source": [
    "#### 1. numpy array와 jax.numpy.array는 대체로 compatible하다."
   ]
  },
  {
   "cell_type": "code",
   "execution_count": 2,
   "id": "4ddaded6",
   "metadata": {},
   "outputs": [],
   "source": [
    "x = 0.001 * np.arange(16)\n",
    "jx = jnp.array(x)\n",
    "jy = jnp.array(3.141592 * jnp.sin(jnp.arange(16)))\n",
    "a = jnp.array([0.01, 0.01, 0.01])"
   ]
  },
  {
   "cell_type": "markdown",
   "id": "7a22c9e3",
   "metadata": {},
   "source": [
    "#### 2. jax object/numpy object 등이 포함된 식의 gradient를 계산할 수 있다.\n",
    "\n",
    "$\\hat y = a_0 * x + a_1 * x^2 + a_2 * x^3$으로 $sin(\\pi y)$를 근사할 때의 loss를 다음과 같이 계산할 수 있습니다."
   ]
  },
  {
   "cell_type": "code",
   "execution_count": 3,
   "id": "4868f18f",
   "metadata": {},
   "outputs": [
    {
     "data": {
      "text/plain": [
       "DeviceArray(4.85457, dtype=float32)"
      ]
     },
     "execution_count": 3,
     "metadata": {},
     "output_type": "execute_result"
    }
   ],
   "source": [
    "@jit\n",
    "def loss(x, y, a):\n",
    "    y_hat = a[0] * x + a[1] * (x ** 2) + a[2] * (x ** 3)\n",
    "    return ((y_hat - y) ** 2).mean()\n",
    "loss(jx, jy, a)"
   ]
  },
  {
   "cell_type": "code",
   "execution_count": 4,
   "id": "41b3bb71",
   "metadata": {},
   "outputs": [
    {
     "data": {
      "text/plain": [
       "DeviceArray([ 0.        , -0.00331105, -0.0035851 , -0.00055748,\n",
       "              0.00299592,  0.00380369,  0.00111062, -0.00261639,\n",
       "             -0.00394801, -0.00164779,  0.00217986,  0.00401491,\n",
       "              0.00215875, -0.00169356, -0.00400113, -0.00263181],            dtype=float32)"
      ]
     },
     "execution_count": 4,
     "metadata": {},
     "output_type": "execute_result"
    }
   ],
   "source": [
    "grads = grad(loss, argnums=[0,2])(jx ,jy, a) # 0번째 argument인 jx에 대한 grad, 2번째 argument인 a에 대한 gradient\n",
    "grads[0] # jx의 gradient"
   ]
  },
  {
   "cell_type": "markdown",
   "id": "71110f57",
   "metadata": {},
   "source": [
    "따라서 다음 식은, 주어진 loss를 최적화하는 방향의 `jx`, `a`의 gradient descent update가 됩니다."
   ]
  },
  {
   "cell_type": "code",
   "execution_count": 5,
   "id": "ece92078",
   "metadata": {},
   "outputs": [],
   "source": [
    "lr = 0.5\n",
    "jx -= lr * grads[0]\n",
    "a -= lr * grads[1]"
   ]
  },
  {
   "cell_type": "markdown",
   "id": "53cecce1",
   "metadata": {},
   "source": [
    "#### 3. 간단한 gradient update iterations"
   ]
  },
  {
   "cell_type": "code",
   "execution_count": 6,
   "id": "f5095a68",
   "metadata": {},
   "outputs": [
    {
     "name": "stdout",
     "output_type": "stream",
     "text": [
      "loss:  4.8544683\n",
      "loss:  4.854233\n",
      "loss:  4.8536825\n",
      "loss:  4.852408\n",
      "loss:  4.8494987\n",
      "loss:  4.8429565\n",
      "loss:  4.8284535\n",
      "loss:  4.7968144\n",
      "loss:  4.7290735\n",
      "loss:  4.587598\n",
      "loss:  4.303007\n",
      "loss:  3.7652407\n",
      "loss:  2.8549566\n",
      "loss:  1.5948524\n",
      "loss:  0.4395939\n",
      "loss:  0.043171447\n",
      "loss:  0.005146715\n",
      "loss:  0.0013591682\n",
      "loss:  0.0004096477\n",
      "loss:  0.0001331548\n"
     ]
    }
   ],
   "source": [
    "lr = 0.5\n",
    "for i in range(20):\n",
    "    print(\"loss: \", loss(jx, jy, a))\n",
    "    grads = grad(loss, argnums=[0,2],)(jx, jy, a) #gradient update\n",
    "    jx -= lr * grads[0]\n",
    "    a -= lr * grads[1]\n",
    "    lr *= 0.98 # weight decay"
   ]
  },
  {
   "cell_type": "markdown",
   "id": "2f33a401",
   "metadata": {},
   "source": [
    "자세한 소개는 <https://jax.readthedocs.io/en/latest/notebooks/quickstart.html> 를 참고하세요."
   ]
  },
  {
   "cell_type": "code",
   "execution_count": 7,
   "id": "fac3c24c",
   "metadata": {},
   "outputs": [],
   "source": [
    "import pandas as pd\n",
    "from scipy.sparse import csr_matrix\n",
    "import numpy as np"
   ]
  },
  {
   "cell_type": "markdown",
   "id": "30ee5738",
   "metadata": {},
   "source": [
    "## 전처리한 데이터 읽기"
   ]
  },
  {
   "cell_type": "code",
   "execution_count": 8,
   "id": "a6876280",
   "metadata": {},
   "outputs": [],
   "source": [
    "tr = pd.read_csv('./parsed/listen_count.txt', sep=' ', header=None, dtype=str)\n",
    "tr.columns = ['uid', 'sid', 'cnt']\n",
    "tr['cnt'] = tr['cnt']"
   ]
  },
  {
   "cell_type": "markdown",
   "id": "d4988dcb",
   "metadata": {},
   "source": [
    "## user/song id ↔︎ index mapper 생성"
   ]
  },
  {
   "cell_type": "code",
   "execution_count": 9,
   "id": "98fc1a4f",
   "metadata": {},
   "outputs": [],
   "source": [
    "uid2idx = {_id: i for (i, _id) in enumerate(tr.uid.unique())}\n",
    "sid2idx = {_id: i for (i, _id) in enumerate(tr.sid.unique())}\n",
    "idx2uid = {i: _id for (_id, i) in uid2idx.items()}\n",
    "idx2sid = {i: _id for (_id, i) in sid2idx.items()}"
   ]
  },
  {
   "cell_type": "code",
   "execution_count": 10,
   "id": "dfabc6be",
   "metadata": {},
   "outputs": [],
   "source": [
    "n_users, n_items = len(uid2idx), len(sid2idx)"
   ]
  },
  {
   "cell_type": "code",
   "execution_count": 11,
   "id": "827ddd9c",
   "metadata": {},
   "outputs": [],
   "source": [
    "tr['uidx'] = tr.uid.apply(lambda x: uid2idx[x])\n",
    "tr['sidx'] = tr.sid.apply(lambda x: sid2idx[x])"
   ]
  },
  {
   "cell_type": "code",
   "execution_count": 12,
   "id": "c8410198",
   "metadata": {},
   "outputs": [],
   "source": [
    "with open('./user_id.txt', 'w') as f:\n",
    "    print('\\n'.join(list(uid2idx)), file=f)"
   ]
  },
  {
   "cell_type": "code",
   "execution_count": 13,
   "id": "519a6faa",
   "metadata": {},
   "outputs": [],
   "source": [
    "X = csr_matrix((tr.cnt, (tr.uidx, tr.sidx)), shape=(n_users, n_items), dtype=np.float32)\n",
    "X.data[:] = 1.0 + np.log(1.0 + X.data[:])\n",
    "jX = jnp.array(X.todense())"
   ]
  },
  {
   "cell_type": "markdown",
   "id": "ad0b2ae1",
   "metadata": {},
   "source": [
    "## 모델 패러미터 선언"
   ]
  },
  {
   "cell_type": "code",
   "execution_count": 14,
   "id": "30e9dcd8",
   "metadata": {},
   "outputs": [],
   "source": [
    "P = jnp.array(np.random.normal(0, 0.001, size=(n_items, n_items)))\n",
    "P = P.at[jnp.diag_indices(P.shape[0])].set(0)"
   ]
  },
  {
   "cell_type": "markdown",
   "id": "f4e087bc",
   "metadata": {},
   "source": [
    "## AutoEncoder Loss function 정의"
   ]
  },
  {
   "cell_type": "code",
   "execution_count": 15,
   "id": "3bbdccdd",
   "metadata": {},
   "outputs": [],
   "source": [
    "@jit\n",
    "def loss_fn(X, P):\n",
    "    ret = (((X - X @ P) **2).sum() / X.shape[0])\n",
    "    ret = ret + 0.01 * (P * P).sum()\n",
    "    return ret\n",
    "\n",
    "@jit\n",
    "def loss_fn_with_reg(X, P):\n",
    "    ret = loss_fn(X, P)\n",
    "    ret = ret + 0.01 * (P * P).sum()\n",
    "    return ret "
   ]
  },
  {
   "cell_type": "markdown",
   "id": "b4fe16ee",
   "metadata": {},
   "source": [
    "## 모델 학습 iteration"
   ]
  },
  {
   "cell_type": "code",
   "execution_count": 16,
   "id": "5347798b",
   "metadata": {
    "scrolled": true
   },
   "outputs": [
    {
     "name": "stdout",
     "output_type": "stream",
     "text": [
      "loss 64.004\n",
      "loss 66.449\n",
      "loss 67.097\n",
      "loss 60.643\n",
      "loss 59.344\n",
      "loss 64.691\n",
      "loss 59.441\n",
      "loss 63.911\n",
      "loss 59.402\n",
      "loss 64.654\n",
      "loss 62.120\n",
      "loss 60.031\n",
      "loss 62.357\n",
      "loss 61.753\n",
      "loss 57.506\n",
      "loss 60.258\n",
      "loss 58.754\n",
      "loss 56.311\n",
      "loss 58.182\n",
      "loss 62.481\n",
      "loss 60.810\n",
      "loss 56.708\n",
      "loss 57.245\n",
      "loss 60.673\n",
      "loss 56.572\n",
      "loss 59.373\n",
      "loss 59.507\n",
      "loss 57.597\n",
      "loss 59.925\n",
      "loss 59.495\n",
      "loss 55.814\n",
      "loss 55.230\n",
      "loss 59.792\n",
      "loss 58.578\n",
      "loss 58.576\n",
      "loss 57.569\n",
      "loss 55.163\n",
      "loss 58.808\n",
      "loss 55.075\n",
      "loss 57.480\n",
      "loss 56.844\n",
      "loss 56.501\n",
      "loss 55.325\n",
      "loss 58.603\n",
      "loss 57.383\n",
      "loss 56.497\n",
      "loss 55.732\n",
      "loss 55.738\n",
      "loss 58.511\n",
      "loss 60.045\n",
      "loss 54.302\n",
      "loss 57.139\n",
      "loss 57.217\n",
      "loss 57.407\n",
      "loss 53.654\n",
      "loss 55.838\n",
      "loss 54.236\n",
      "loss 55.657\n",
      "loss 56.574\n",
      "loss 56.752\n",
      "loss 54.039\n",
      "loss 53.840\n",
      "loss 57.588\n",
      "loss 55.948\n",
      "loss 56.433\n",
      "loss 58.417\n",
      "loss 53.072\n",
      "loss 57.674\n",
      "loss 57.769\n",
      "loss 53.164\n",
      "loss 55.655\n",
      "loss 56.704\n",
      "loss 59.374\n",
      "loss 55.299\n",
      "loss 53.946\n",
      "loss 57.615\n",
      "loss 58.426\n",
      "loss 53.965\n",
      "loss 56.668\n",
      "loss 58.578\n",
      "loss 59.542\n",
      "loss 58.564\n",
      "loss 57.424\n",
      "loss 57.376\n",
      "loss 57.319\n",
      "loss 56.014\n",
      "loss 56.321\n",
      "loss 56.480\n",
      "loss 55.599\n",
      "loss 54.096\n",
      "loss 56.425\n",
      "loss 54.798\n",
      "loss 55.761\n",
      "loss 55.811\n",
      "loss 52.461\n",
      "loss 59.287\n",
      "loss 53.293\n",
      "loss 55.951\n",
      "loss 54.867\n",
      "loss 54.828\n"
     ]
    }
   ],
   "source": [
    "lr = 0.05\n",
    "for i in range(100):\n",
    "    batch = np.random.choice(X.shape[0], 1024)\n",
    "    l = loss_fn(jX[batch], P)\n",
    "    print(\"loss %.3f\" % l)\n",
    "    r = grad(loss_fn_with_reg, argnums=1)(jX[batch], P)\n",
    "    P -= lr * r\n",
    "    P = P.at[jnp.diag_indices(P.shape[0])].set(0)\n",
    "    lr *= 0.99"
   ]
  },
  {
   "cell_type": "code",
   "execution_count": 17,
   "id": "cb170b21",
   "metadata": {},
   "outputs": [],
   "source": [
    "scores = np.asarray(X @ P)\n",
    "\n",
    "# 유저가 들은 적이 있는 아이템을 추천에서 제외해 줍니다.\n",
    "scores = np.asarray((scores - X.astype(bool).astype(int) * 10000))"
   ]
  },
  {
   "cell_type": "markdown",
   "id": "9855859e",
   "metadata": {},
   "source": [
    "## 아이템 선택\n",
    "\n",
    "score가 높은 top 100개 아이템을 선택해줍니다."
   ]
  },
  {
   "cell_type": "code",
   "execution_count": 18,
   "id": "1d218c77",
   "metadata": {},
   "outputs": [],
   "source": [
    "top_reco = (-scores).argsort(-1)[:, :100]"
   ]
  },
  {
   "cell_type": "markdown",
   "id": "6429b6d2",
   "metadata": {},
   "source": [
    "## 추천 생성 후 저장"
   ]
  },
  {
   "cell_type": "code",
   "execution_count": 19,
   "id": "fb7fdf46",
   "metadata": {},
   "outputs": [],
   "source": [
    "ret = []\n",
    "for idx, rec_list in enumerate(top_reco):\n",
    "    uid = idx2uid[idx]\n",
    "    rec_sids = [str(idx2sid[sidx]) for sidx in rec_list]\n",
    "    ret.append(\"%s \" % uid + ' '.join(rec_sids))\n",
    "with open('./parsed/rec_result.txt', 'w') as f:\n",
    "    for w in ret:\n",
    "        print(w, file=f)"
   ]
  },
  {
   "cell_type": "markdown",
   "id": "7bec8d62",
   "metadata": {},
   "source": [
    "저장된 추천 결과, 그리고 테스트 데이터를 dictionary 형태로 읽어옵니다."
   ]
  },
  {
   "cell_type": "code",
   "execution_count": 20,
   "id": "4980fcdb",
   "metadata": {},
   "outputs": [],
   "source": [
    "def load_res(fname):\n",
    "    ret = {}\n",
    "    with open(fname, 'r') as f:\n",
    "        for l in f:\n",
    "            l = l.strip().split()\n",
    "            uid, sids = l[0], l[1:]\n",
    "            ret[uid] = sids\n",
    "    return ret\n",
    "\n",
    "recs = load_res('./parsed/rec_result.txt')\n",
    "gt = load_res('./parsed/TEST_DATA.txt')"
   ]
  },
  {
   "cell_type": "code",
   "execution_count": 21,
   "id": "bc1cc380",
   "metadata": {},
   "outputs": [],
   "source": [
    "import math\n",
    "def ndcg(recs, gt):\n",
    "    Q, S = 0.0, 0.0\n",
    "    for u, vs in gt.items():\n",
    "        rec = recs.get(u, [])\n",
    "        if not rec:\n",
    "            continue\n",
    "\n",
    "        idcg = sum([1.0 / math.log(i + 2, 2) for i in range(len(vs))])\n",
    "        dcg = 0.0\n",
    "        for i, r in enumerate(rec):\n",
    "            if r not in vs:\n",
    "                continue\n",
    "            rank = i + 1\n",
    "            dcg += 1.0 / math.log(rank + 1, 2)\n",
    "        ndcg = dcg / idcg\n",
    "        S += ndcg\n",
    "        Q += 1\n",
    "    return S / Q\n"
   ]
  },
  {
   "cell_type": "code",
   "execution_count": 22,
   "id": "f8c20670",
   "metadata": {},
   "outputs": [
    {
     "data": {
      "text/plain": [
       "0.25222175220674803"
      ]
     },
     "execution_count": 22,
     "metadata": {},
     "output_type": "execute_result"
    }
   ],
   "source": [
    "ndcg(recs, gt)"
   ]
  }
 ],
 "metadata": {
  "kernelspec": {
   "display_name": "Python 3 (ipykernel)",
   "language": "python",
   "name": "python3"
  },
  "language_info": {
   "codemirror_mode": {
    "name": "ipython",
    "version": 3
   },
   "file_extension": ".py",
   "mimetype": "text/x-python",
   "name": "python",
   "nbconvert_exporter": "python",
   "pygments_lexer": "ipython3",
   "version": "3.9.7"
  },
  "vscode": {
   "interpreter": {
    "hash": "1c0b93efeafdf3e6d99eb605273d97a0510dd9f2bbdf91a9dec5466ed68b0be9"
   }
  }
 },
 "nbformat": 4,
 "nbformat_minor": 5
}
